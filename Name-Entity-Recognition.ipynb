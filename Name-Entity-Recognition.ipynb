{
  "cells": [
    {
      "cell_type": "markdown",
      "id": "8bd3a486-36c6-4c20-94d7-a30271ad011d",
      "metadata": {},
      "source": [
        "# **NAME ENTITY RECOGNITION**"
      ]
    },
    {
      "cell_type": "markdown",
      "id": "a4348ff2-2146-4305-8999-191a8e9c4cc7",
      "metadata": {},
      "source": [
        "# **Table of Contents**\n",
        "\n",
        "1.   [Introduction](#Introduction)\n",
        "2.   [Prerequisites](#Prerequisites)\n",
        "3.   [Applications](#Applications)\n",
        "4.   [Rule-based-model](#Rule-based-models)\n",
        "5.   [Machinelearning-model](#Machinelearning-model)\n",
        "6.   [Conclusion](#Conclusion)\n",
        "7.   [References](#References)"
      ]
    },
    {
      "cell_type": "markdown",
      "id": "a1b8a541-a2e4-4886-b42e-4126d9fb9d7a",
      "metadata": {},
      "source": [
        "## **Introduction**\n",
        "\n",
        "Name Entity recognition(NER) is a subtask of Natural language process(NLP) which focuses on identifying and grouping entities within a text or document.\n",
        "Entities present specific objects or names such as Persons, organizations, dates and times, countries, drugs, and various unique information within a document. \n"
      ]
    },
    {
      "cell_type": "markdown",
      "id": "70b84706-8034-464e-aeb9-3a40249370df",
      "metadata": {},
      "source": [
        "## **Prerequisites**\n",
        "\n",
        "Before diving into coding exercises and examples, one should have basic knowledge in the following:\n",
        "1. python programming \n",
        "2. writing and creating algorithms \n",
        "3. problem solving, critical thinking and creative skills "
      ]
    },
    {
      "cell_type": "markdown",
      "id": "3a37af23-9129-4e73-88a0-b8714f639416",
      "metadata": {},
      "source": [
        "<a id='guide'></a>\n",
        "## **Applications**\n",
        "\n",
        "NER is applied in various sectors of our daily lives; so of these applied areas are:\n",
        "1. Spam detection in emails \n",
        "2. "
      ]
    },
    {
      "cell_type": "markdown",
      "id": "26ceb56a",
      "metadata": {},
      "source": [
        "<a id='guide'></a>\n",
        "## **Types-of-NER-models**\n",
        "\n",
        "NER is applied in various sectors of our daily lives; so of these applied areas are:\n",
        "1. Rule based NER models\n",
        "2. Machine learning (ML) models\n",
        "3. Deep learning models "
      ]
    },
    {
      "cell_type": "markdown",
      "id": "b82436ec-e867-4841-966b-9c3fd6280850",
      "metadata": {},
      "source": [
        "## **Rule-based-model**\n",
        "A rule-based NER model is a .....\n",
        "\n",
        "Examples of rule based approaches \n",
        "\n",
        "a. Spacy Entity \n",
        "\n",
        "b. NLTK\n"
      ]
    },
    {
      "cell_type": "code",
      "execution_count": null,
      "id": "52e1a00c",
      "metadata": {},
      "outputs": [],
      "source": [
        "import nltk\n",
        "import svgling\n",
        "nltk.download('punkt_tab')\n",
        "nltk.download('averaged_perceptron_tagger_eng')\n",
        "nltk.download('maxent_ne_chunker_tab')\n",
        "nltk.download('words')\n",
        "\n",
        "\n",
        "sentence = \"At eight o'clock on Thursday morning Arthur didn't feel very good. can arthur go to the Ghana\"\n",
        "tokens = nltk.word_tokenize(sentence)\n",
        "tagged = nltk.pos_tag(tokens)\n",
        "\n",
        "\n",
        "entities = nltk.chunk.ne_chunk(tagged)\n",
        "entities"
      ]
    },
    {
      "cell_type": "markdown",
      "id": "f3ef8ce6",
      "metadata": {},
      "source": [
        "### **code-examples-for-Spacy** "
      ]
    },
    {
      "cell_type": "code",
      "execution_count": null,
      "id": "c90da5ca",
      "metadata": {},
      "outputs": [],
      "source": [
        "#installations\n",
        "%%capture\n",
        "!pip install spacy\n",
        "!pip install nltk\n",
        "!python -m spacy download en_core_web_sm"
      ]
    },
    {
      "cell_type": "code",
      "execution_count": null,
      "id": "8b16d546",
      "metadata": {},
      "outputs": [],
      "source": [
        "import spacy\n",
        "import EntityRuler"
      ]
    },
    {
      "cell_type": "code",
      "execution_count": null,
      "id": "d53eed00",
      "metadata": {},
      "outputs": [],
      "source": [
        "def spacy_rb_ner(patterns,text,model_name='en'):\n",
        "\n",
        "  #create a blank model\n",
        "  nlp = spacy.blank(model_name)\n",
        "\n",
        "  #create an new entity to for NER\n",
        "  ruler = nlp.add_pipe(\"entity_ruler\")\n",
        "\n",
        "  ruler.add_patterns(patterns)\n",
        "\n",
        "  #extract components from the text\n",
        "  doc = nlp(text)\n",
        "  # print(doc)\n",
        "  for ent in doc.ents:\n",
        "      print(ent.text, ent.label_)"
      ]
    },
    {
      "cell_type": "code",
      "execution_count": null,
      "id": "f8a1b4a7",
      "metadata": {},
      "outputs": [],
      "source": [
        "patterns = [{\"label\": \"AGE\", \"pattern\": [{\"like_num\": True}, {\"lower\": \"years\"}, {\"lower\": \"old\"}]}]\n",
        "text = \"John is 25 years old\"\n",
        "spacy_rb_ner(patterns,text)"
      ]
    },
    {
      "cell_type": "markdown",
      "id": "80aedc0f",
      "metadata": {},
      "source": [
        "### **Exercises 1** \n",
        "\n",
        "Please list some advantages and disadvantages as you try out these rule based name entity recognition models.\n",
        "\n",
        "Advantages\n",
        "1. \n",
        "2. \n",
        "\n",
        "Disadvantages\n",
        "1. \n",
        "2. "
      ]
    },
    {
      "cell_type": "markdown",
      "id": "1d9cd2de",
      "metadata": {},
      "source": [
        "### **Exercises 2**\n",
        "\n",
        "Let's try our hands on sample exercises for better understanding "
      ]
    },
    {
      "cell_type": "code",
      "execution_count": null,
      "id": "388b0feb",
      "metadata": {},
      "outputs": [],
      "source": [
        "# Easy\n",
        "#customize your own pattern and provide your text for testing\n",
        "pattern =[]\n",
        "text = \"\"\n",
        "spacy_rb_ner(pattern,text)"
      ]
    },
    {
      "cell_type": "code",
      "execution_count": null,
      "id": "9d1cfecc",
      "metadata": {},
      "outputs": [],
      "source": [
        "#Hard\n",
        "\n",
        "#1. dataset extraction from huggingface\n",
        "import kagglehub\n",
        "\n",
        "path = kagglehub.dataset_download(\"remakia/drugs-dictionary\")\n",
        "print(\"Path to dataset files:\", path)\n",
        "\n",
        "#2. load the json dictionary\n",
        "import json\n",
        "def read_json(json_file):\n",
        "\n",
        "  return 0\n",
        "\n",
        "#3. convert the drug dict into patterns\n",
        "def generate_patern(drug_dict):\n",
        "\n",
        "  return 0\n",
        "\n",
        "json_file = \"drug.json\"\n",
        "drug_dict = read_json(json_file)\n",
        "pattern =generate_patern(drug_dict)\n",
        "text = \"Perfusion d'une ampoule de prexidine de lithium et introduction d'un antihistaminique par Cétirizine 10 mg x 2 par jour, avec diminution puis disparition de l'oedème.\"\n",
        "text = text.lower()\n",
        "spacy_rb_ner(pattern,text)"
      ]
    },
    {
      "cell_type": "markdown",
      "id": "18658ab7",
      "metadata": {},
      "source": [
        "## **Machinelearning-model**\n",
        "\n",
        "1. Conditional Random Fields - (provide explanation)\n",
        "2. SVM - (provide explanation)"
      ]
    },
    {
      "cell_type": "markdown",
      "id": "0ce78b08",
      "metadata": {},
      "source": [
        "### **Example-code**\n",
        "\n",
        "Below is an example code of Spacy, a machine learning NER model train with the theory of conditional random fields."
      ]
    },
    {
      "cell_type": "code",
      "execution_count": null,
      "id": "ab200a63",
      "metadata": {},
      "outputs": [],
      "source": [
        "import pandas as pd\n",
        "import spacy\n",
        "import requests\n",
        "\n",
        "nlp = spacy.load(\"en_core_web_sm\")\n",
        "pd.set_option(\"display.max_rows\", 200)\n",
        "\n",
        "content =\"Esi is a 27-years-old individual who came back home from school. she is meant to go back to school soon to see her friends. Have you heard from Kwame because the last time i spoke to him, he said he was going to the Ghana, Kigali\"\n",
        "\n",
        "doc = nlp(content)\n",
        "for ent in doc.ents:\n",
        "    print(ent.text, ent.start_char, ent.end_char, ent.label_)"
      ]
    },
    {
      "cell_type": "markdown",
      "id": "b3da591e",
      "metadata": {},
      "source": [
        "### **Exercise 1**\n",
        "\n",
        "We will train our own Spacy model. "
      ]
    },
    {
      "cell_type": "code",
      "execution_count": null,
      "id": "3379a87f",
      "metadata": {},
      "outputs": [],
      "source": [
        "\n",
        "def processed_data():\n",
        "     return 0 \n",
        "\n",
        "def normalization():\n",
        "    return 0\n",
        "\n",
        "def dataset_preprocessing(TRAIN_DATA,ner):\n",
        "\n",
        "    for _, annotations in TRAIN_DATA:\n",
        "        for ent in annotations.get('entities'):\n",
        "                ner.add_label(ent[2])\n",
        "    return ner\n"
      ]
    },
    {
      "cell_type": "code",
      "execution_count": null,
      "id": "186a9cbc",
      "metadata": {},
      "outputs": [],
      "source": [
        "import random\n",
        "\n",
        "from tqdm import tqdm\n",
        "\n",
        "n_iter= 30 #number of times you want the model to train \n",
        "model= \"name-of-blank-model\"\n",
        "nlp = spacy.load(model)\n",
        "\n",
        "\n",
        "#create and set up a pipeline \n",
        "ner = nlp.create_pipe('ner')\n",
        "nlp.add_pipe(ner)\n",
        "\n",
        "#data preprocessing\n",
        "TRAIN_DATA=processed_data()\n",
        "dataset_preprocessing(TRAIN_DATA)\n",
        "\n",
        "#training \n",
        "other_pipes = [pipe for pipe in nlp.pipe_names if pipe != 'ner']\n",
        "with nlp.disable_pipes(*other_pipes):  # only train NER\n",
        "    optimizer = nlp.begin_training()\n",
        "    for itn in range(n_iter):\n",
        "        random.shuffle(TRAIN_DATA)\n",
        "        losses = {}\n",
        "        for text, annotations in tqdm(TRAIN_DATA):\n",
        "            nlp.update(\n",
        "                [text],  \n",
        "                [annotations],  \n",
        "                drop=0.5,  \n",
        "                sgd=optimizer,\n",
        "                losses=losses)\n",
        "        print(losses)\n"
      ]
    },
    {
      "cell_type": "markdown",
      "id": "b21e5569-95d9-4a75-8c22-751b3c05a02f",
      "metadata": {},
      "source": [
        "## **Conclusion**\n",
        "\n"
      ]
    },
    {
      "cell_type": "markdown",
      "id": "4b9704f8-cc01-4159-841f-de6d7973e92b",
      "metadata": {},
      "source": [
        "## **References**\n",
        "\n",
        "\n",
        "1. https://www.kaggle.com/code/remakia/introduction-to-ner-part-i-rule-based\n",
        "2. https://spacy.io/\n",
        "3. https://www.kaggle.com/code/remakia/introduction-to-ner-part-i-rule-based\n",
        "4. https://www.nltk.org/\n"
      ]
    },
    {
      "cell_type": "markdown",
      "id": "8b7c0266-7f5b-4247-ac36-c6b44f90bf03",
      "metadata": {},
      "source": [
        "# **Facilitator(s) Details**\n",
        "\n",
        "**Facilitator(s):**\n",
        "\n",
        "*   Name: [FELIX TETTEH AKWERH,Adwoa Asantewaa Bremang]\n",
        "*   Email: [felix.akwerh@knust.edu.gh,adwoabremang@gmail.com]\n",
        "*   LinkedIn: \n",
        "\n"
      ]
    },
    {
      "cell_type": "markdown",
      "id": "7257b3a4-6572-417d-8b22-b53efb4bd6b2",
      "metadata": {},
      "source": [
        "# **Reviewer’s Name**\n",
        "\n",
        "*   Name: [Reviewer’s Name]"
      ]
    },
    {
      "cell_type": "code",
      "execution_count": null,
      "id": "c22f7673-72d0-4bf2-bc87-f9c7c2c4b32c",
      "metadata": {
        "trusted": true
      },
      "outputs": [],
      "source": []
    }
  ],
  "metadata": {
    "kernelspec": {
      "display_name": "Python (Pyodide)",
      "language": "python",
      "name": "python"
    },
    "language_info": {
      "codemirror_mode": {
        "name": "python",
        "version": 3
      },
      "file_extension": ".py",
      "mimetype": "text/x-python",
      "name": "python",
      "nbconvert_exporter": "python",
      "pygments_lexer": "ipython3",
      "version": "3.8"
    }
  },
  "nbformat": 4,
  "nbformat_minor": 5
}
